{
 "cells": [
  {
   "cell_type": "markdown",
   "metadata": {},
   "source": [
    "# Connect to twitter/emoji db with Insight user\n",
    "- Please use limit 2M at most or else my server will probably die :) ... there are 2 billion tweets in there."
   ]
  },
  {
   "cell_type": "code",
   "execution_count": 3,
   "metadata": {
    "collapsed": true
   },
   "outputs": [],
   "source": [
    "import psycopg2\n",
    "import pandas as pd\n"
   ]
  },
  {
   "cell_type": "markdown",
   "metadata": {},
   "source": [
    "If you get this error the reconnect: \"InternalError: current transaction is aborted, commands ignored until end of transaction block\""
   ]
  },
  {
   "cell_type": "markdown",
   "metadata": {},
   "source": [
    "## Add the password"
   ]
  },
  {
   "cell_type": "code",
   "execution_count": 25,
   "metadata": {
    "collapsed": false
   },
   "outputs": [],
   "source": [
    "conn = psycopg2.connect(\"host=108.45.74.15 port=5432 dbname=emoji_db user=insight password=\")\n",
    "cur = conn.cursor()\n"
   ]
  },
  {
   "cell_type": "markdown",
   "metadata": {},
   "source": [
    "# Get the schema"
   ]
  },
  {
   "cell_type": "code",
   "execution_count": 5,
   "metadata": {
    "collapsed": false
   },
   "outputs": [],
   "source": [
    "cur.execute(\"SELECT column_name FROM information_schema.columns WHERE table_name = 'tweet_dump';\")\n",
    "result = cur.fetchall()\n"
   ]
  },
  {
   "cell_type": "code",
   "execution_count": 8,
   "metadata": {
    "collapsed": false
   },
   "outputs": [
    {
     "data": {
      "text/plain": [
       "['id',\n",
       " 'date',\n",
       " 'created_at',\n",
       " 'text',\n",
       " 'retweet_count',\n",
       " 'favorite_count',\n",
       " 'lang',\n",
       " 'geo',\n",
       " 'coordinates',\n",
       " 'time_zone',\n",
       " 'name',\n",
       " 'user_name',\n",
       " 'source',\n",
       " 'location',\n",
       " 'twitter_id']"
      ]
     },
     "execution_count": 8,
     "metadata": {},
     "output_type": "execute_result"
    }
   ],
   "source": [
    "schema = [val[0] for val in result]\n",
    "schema"
   ]
  },
  {
   "cell_type": "markdown",
   "metadata": {},
   "source": [
    "# Search for a dump and apply the schema."
   ]
  },
  {
   "cell_type": "code",
   "execution_count": 21,
   "metadata": {
    "collapsed": false
   },
   "outputs": [],
   "source": [
    "cur.execute(\"SELECT * from tweet_dump order by id DESC limit 10;\")\n",
    "result = cur.fetchall()\n"
   ]
  },
  {
   "cell_type": "code",
   "execution_count": 22,
   "metadata": {
    "collapsed": false
   },
   "outputs": [
    {
     "data": {
      "text/html": [
       "<div>\n",
       "<table border=\"1\" class=\"dataframe\">\n",
       "  <thead>\n",
       "    <tr style=\"text-align: right;\">\n",
       "      <th></th>\n",
       "      <th>id</th>\n",
       "      <th>date</th>\n",
       "      <th>created_at</th>\n",
       "      <th>text</th>\n",
       "      <th>retweet_count</th>\n",
       "      <th>favorite_count</th>\n",
       "      <th>lang</th>\n",
       "      <th>geo</th>\n",
       "      <th>coordinates</th>\n",
       "      <th>time_zone</th>\n",
       "      <th>name</th>\n",
       "      <th>user_name</th>\n",
       "      <th>source</th>\n",
       "      <th>location</th>\n",
       "      <th>twitter_id</th>\n",
       "    </tr>\n",
       "  </thead>\n",
       "  <tbody>\n",
       "    <tr>\n",
       "      <th>0</th>\n",
       "      <td>2526087769</td>\n",
       "      <td>2018-06-09 14:46:47.236043</td>\n",
       "      <td>2018-06-09 14:46:46</td>\n",
       "      <td>RT @AzeezLJ: ارقام ليبرون جيمس x الواريورز 201...</td>\n",
       "      <td>36</td>\n",
       "      <td>25</td>\n",
       "      <td>ar</td>\n",
       "      <td>{}</td>\n",
       "      <td>{}</td>\n",
       "      <td></td>\n",
       "      <td>Ahmed AL idrissi</td>\n",
       "      <td>meed00w</td>\n",
       "      <td>Twitter for iPhone</td>\n",
       "      <td>مكة المكرمة</td>\n",
       "      <td>1005461205694271488</td>\n",
       "    </tr>\n",
       "    <tr>\n",
       "      <th>1</th>\n",
       "      <td>2526087768</td>\n",
       "      <td>2018-06-09 14:46:47.227221</td>\n",
       "      <td>2018-06-09 14:46:46</td>\n",
       "      <td>ナイタ―で巨人が西武に勝利 セ・リーグ４年ぶり３回目の“全勝”達成 https://t.co...</td>\n",
       "      <td>0</td>\n",
       "      <td>0</td>\n",
       "      <td>ja</td>\n",
       "      <td>{}</td>\n",
       "      <td>{}</td>\n",
       "      <td></td>\n",
       "      <td>YOUTUBE速報動画</td>\n",
       "      <td>aromaimoko</td>\n",
       "      <td>WordPress.com</td>\n",
       "      <td></td>\n",
       "      <td>1005461205706772480</td>\n",
       "    </tr>\n",
       "    <tr>\n",
       "      <th>2</th>\n",
       "      <td>2526087767</td>\n",
       "      <td>2018-06-09 14:46:47.202243</td>\n",
       "      <td>2018-06-09 14:46:46</td>\n",
       "      <td>RT @val_fina: Esas palabras mimitos y besitos ...</td>\n",
       "      <td>528</td>\n",
       "      <td>918</td>\n",
       "      <td>es</td>\n",
       "      <td>{}</td>\n",
       "      <td>{}</td>\n",
       "      <td></td>\n",
       "      <td>Cenab-ı Đark  ~ YđK ~</td>\n",
       "      <td>DarkDeath____</td>\n",
       "      <td>Twitter Lite</td>\n",
       "      <td>Sheol🗡🖤   S💘T</td>\n",
       "      <td>1005461205706792961</td>\n",
       "    </tr>\n",
       "    <tr>\n",
       "      <th>3</th>\n",
       "      <td>2526087766</td>\n",
       "      <td>2018-06-09 14:46:47.193906</td>\n",
       "      <td>2018-06-09 14:46:46</td>\n",
       "      <td>RT @suitryt: ちったい春田と牧\\n\\n#おっさんずラブ https://t.co...</td>\n",
       "      <td>133</td>\n",
       "      <td>1025</td>\n",
       "      <td>ja</td>\n",
       "      <td>{}</td>\n",
       "      <td>{}</td>\n",
       "      <td></td>\n",
       "      <td>🍎かささぎ🍎</td>\n",
       "      <td>kssgkr</td>\n",
       "      <td>Twitter for iPhone</td>\n",
       "      <td>グンマー</td>\n",
       "      <td>1005461205710827520</td>\n",
       "    </tr>\n",
       "    <tr>\n",
       "      <th>4</th>\n",
       "      <td>2526087765</td>\n",
       "      <td>2018-06-09 14:46:47.185593</td>\n",
       "      <td>2018-06-09 14:46:46</td>\n",
       "      <td>Cc: @factosdabanda @Mateus_africano</td>\n",
       "      <td>0</td>\n",
       "      <td>0</td>\n",
       "      <td>und</td>\n",
       "      <td>{u'country_code': u'AO', u'country': u'Angola'...</td>\n",
       "      <td>{}</td>\n",
       "      <td></td>\n",
       "      <td>Afonso Moussa</td>\n",
       "      <td>MoussaAfonso</td>\n",
       "      <td>Twitter for iPhone</td>\n",
       "      <td>Angola</td>\n",
       "      <td>1005461205706829824</td>\n",
       "    </tr>\n",
       "    <tr>\n",
       "      <th>5</th>\n",
       "      <td>2526087764</td>\n",
       "      <td>2018-06-09 14:46:47.161051</td>\n",
       "      <td>2018-06-09 14:46:46</td>\n",
       "      <td>RT @BottomStuff: Gone, but never ever forgotte...</td>\n",
       "      <td>54</td>\n",
       "      <td>147</td>\n",
       "      <td>en</td>\n",
       "      <td>{}</td>\n",
       "      <td>{}</td>\n",
       "      <td></td>\n",
       "      <td>Brandon Michelle</td>\n",
       "      <td>brandon_michele</td>\n",
       "      <td>Twitter Web Client</td>\n",
       "      <td>Cardiff</td>\n",
       "      <td>1005461205719318528</td>\n",
       "    </tr>\n",
       "    <tr>\n",
       "      <th>6</th>\n",
       "      <td>2526087763</td>\n",
       "      <td>2018-06-09 14:46:47.152473</td>\n",
       "      <td>2018-06-09 14:46:46</td>\n",
       "      <td>RT @arnellarmon: Don’t hit my nigga for advice...</td>\n",
       "      <td>715</td>\n",
       "      <td>1754</td>\n",
       "      <td>en</td>\n",
       "      <td>{}</td>\n",
       "      <td>{}</td>\n",
       "      <td></td>\n",
       "      <td>k</td>\n",
       "      <td>kayleesux</td>\n",
       "      <td>Twitter for iPhone</td>\n",
       "      <td>Houston</td>\n",
       "      <td>1005461205706854400</td>\n",
       "    </tr>\n",
       "    <tr>\n",
       "      <th>7</th>\n",
       "      <td>2526087762</td>\n",
       "      <td>2018-06-09 14:46:47.127260</td>\n",
       "      <td>2018-06-09 14:46:46</td>\n",
       "      <td>楽しそー https://t.co/GruikpHUhO</td>\n",
       "      <td>0</td>\n",
       "      <td>0</td>\n",
       "      <td>ja</td>\n",
       "      <td>{}</td>\n",
       "      <td>{}</td>\n",
       "      <td></td>\n",
       "      <td>kaz/ツヴァンツィヒ</td>\n",
       "      <td>kaz_ktsite</td>\n",
       "      <td>Twitter for iPhone</td>\n",
       "      <td>修羅場</td>\n",
       "      <td>1005461205719310336</td>\n",
       "    </tr>\n",
       "    <tr>\n",
       "      <th>8</th>\n",
       "      <td>2526087761</td>\n",
       "      <td>2018-06-09 14:46:47.118410</td>\n",
       "      <td>2018-06-09 14:46:46</td>\n",
       "      <td>I'm at 秋葉原駅 in 千代田区, 東京都 https://t.co/tb9RAuAyih</td>\n",
       "      <td>0</td>\n",
       "      <td>0</td>\n",
       "      <td>ja</td>\n",
       "      <td>{u'country_code': u'JP', u'country': u'日本', u'...</td>\n",
       "      <td>{u'type': u'Point', u'coordinates': [35.698569...</td>\n",
       "      <td></td>\n",
       "      <td>ふびっく</td>\n",
       "      <td>FHUVC</td>\n",
       "      <td>Foursquare</td>\n",
       "      <td>横浜</td>\n",
       "      <td>1005461205698449414</td>\n",
       "    </tr>\n",
       "    <tr>\n",
       "      <th>9</th>\n",
       "      <td>2526087760</td>\n",
       "      <td>2018-06-09 14:46:47.110052</td>\n",
       "      <td>2018-06-09 14:46:46</td>\n",
       "      <td>@char_u3 マルイに一応10:30頃着ですな〜</td>\n",
       "      <td>0</td>\n",
       "      <td>0</td>\n",
       "      <td>ja</td>\n",
       "      <td>{}</td>\n",
       "      <td>{}</td>\n",
       "      <td></td>\n",
       "      <td>レーイ@創作したい</td>\n",
       "      <td>re_ihk_mk</td>\n",
       "      <td>Twitter for Android</td>\n",
       "      <td>シュウさんの革靴の下</td>\n",
       "      <td>1005461205702438913</td>\n",
       "    </tr>\n",
       "  </tbody>\n",
       "</table>\n",
       "</div>"
      ],
      "text/plain": [
       "           id                       date          created_at  \\\n",
       "0  2526087769 2018-06-09 14:46:47.236043 2018-06-09 14:46:46   \n",
       "1  2526087768 2018-06-09 14:46:47.227221 2018-06-09 14:46:46   \n",
       "2  2526087767 2018-06-09 14:46:47.202243 2018-06-09 14:46:46   \n",
       "3  2526087766 2018-06-09 14:46:47.193906 2018-06-09 14:46:46   \n",
       "4  2526087765 2018-06-09 14:46:47.185593 2018-06-09 14:46:46   \n",
       "5  2526087764 2018-06-09 14:46:47.161051 2018-06-09 14:46:46   \n",
       "6  2526087763 2018-06-09 14:46:47.152473 2018-06-09 14:46:46   \n",
       "7  2526087762 2018-06-09 14:46:47.127260 2018-06-09 14:46:46   \n",
       "8  2526087761 2018-06-09 14:46:47.118410 2018-06-09 14:46:46   \n",
       "9  2526087760 2018-06-09 14:46:47.110052 2018-06-09 14:46:46   \n",
       "\n",
       "                                                text  retweet_count  \\\n",
       "0  RT @AzeezLJ: ارقام ليبرون جيمس x الواريورز 201...             36   \n",
       "1  ナイタ―で巨人が西武に勝利 セ・リーグ４年ぶり３回目の“全勝”達成 https://t.co...              0   \n",
       "2  RT @val_fina: Esas palabras mimitos y besitos ...            528   \n",
       "3  RT @suitryt: ちったい春田と牧\\n\\n#おっさんずラブ https://t.co...            133   \n",
       "4                Cc: @factosdabanda @Mateus_africano              0   \n",
       "5  RT @BottomStuff: Gone, but never ever forgotte...             54   \n",
       "6  RT @arnellarmon: Don’t hit my nigga for advice...            715   \n",
       "7                       楽しそー https://t.co/GruikpHUhO              0   \n",
       "8   I'm at 秋葉原駅 in 千代田区, 東京都 https://t.co/tb9RAuAyih              0   \n",
       "9                         @char_u3 マルイに一応10:30頃着ですな〜              0   \n",
       "\n",
       "   favorite_count lang                                                geo  \\\n",
       "0              25   ar                                                 {}   \n",
       "1               0   ja                                                 {}   \n",
       "2             918   es                                                 {}   \n",
       "3            1025   ja                                                 {}   \n",
       "4               0  und  {u'country_code': u'AO', u'country': u'Angola'...   \n",
       "5             147   en                                                 {}   \n",
       "6            1754   en                                                 {}   \n",
       "7               0   ja                                                 {}   \n",
       "8               0   ja  {u'country_code': u'JP', u'country': u'日本', u'...   \n",
       "9               0   ja                                                 {}   \n",
       "\n",
       "                                         coordinates time_zone  \\\n",
       "0                                                 {}             \n",
       "1                                                 {}             \n",
       "2                                                 {}             \n",
       "3                                                 {}             \n",
       "4                                                 {}             \n",
       "5                                                 {}             \n",
       "6                                                 {}             \n",
       "7                                                 {}             \n",
       "8  {u'type': u'Point', u'coordinates': [35.698569...             \n",
       "9                                                 {}             \n",
       "\n",
       "                    name        user_name               source  \\\n",
       "0       Ahmed AL idrissi          meed00w   Twitter for iPhone   \n",
       "1            YOUTUBE速報動画       aromaimoko        WordPress.com   \n",
       "2  Cenab-ı Đark  ~ YđK ~    DarkDeath____         Twitter Lite   \n",
       "3               🍎かささぎ🍎           kssgkr   Twitter for iPhone   \n",
       "4          Afonso Moussa     MoussaAfonso   Twitter for iPhone   \n",
       "5       Brandon Michelle  brandon_michele   Twitter Web Client   \n",
       "6                      k        kayleesux   Twitter for iPhone   \n",
       "7            kaz/ツヴァンツィヒ       kaz_ktsite   Twitter for iPhone   \n",
       "8                   ふびっく            FHUVC           Foursquare   \n",
       "9              レーイ@創作したい        re_ihk_mk  Twitter for Android   \n",
       "\n",
       "           location           twitter_id  \n",
       "0       مكة المكرمة  1005461205694271488  \n",
       "1                    1005461205706772480  \n",
       "2  Sheol🗡🖤   S💘T  1005461205706792961  \n",
       "3              グンマー  1005461205710827520  \n",
       "4            Angola  1005461205706829824  \n",
       "5           Cardiff  1005461205719318528  \n",
       "6          Houston   1005461205706854400  \n",
       "7               修羅場  1005461205719310336  \n",
       "8                横浜  1005461205698449414  \n",
       "9        シュウさんの革靴の下  1005461205702438913  "
      ]
     },
     "execution_count": 22,
     "metadata": {},
     "output_type": "execute_result"
    }
   ],
   "source": [
    "pd.DataFrame(result, columns=schema)"
   ]
  },
  {
   "cell_type": "markdown",
   "metadata": {},
   "source": [
    "# You'll have to apply the columns bases on what you search for.In the order listed in the query."
   ]
  },
  {
   "cell_type": "code",
   "execution_count": 26,
   "metadata": {
    "collapsed": false
   },
   "outputs": [],
   "source": [
    "cur.execute(\"\"\"SELECT created_at, text, location, time_zone, geo, lang from tweet_dump\n",
    "               order by id DESC limit 10;\"\"\")\n",
    "result = cur.fetchall()\n"
   ]
  },
  {
   "cell_type": "code",
   "execution_count": 27,
   "metadata": {
    "collapsed": false,
    "scrolled": true
   },
   "outputs": [
    {
     "data": {
      "text/html": [
       "<div>\n",
       "<table border=\"1\" class=\"dataframe\">\n",
       "  <thead>\n",
       "    <tr style=\"text-align: right;\">\n",
       "      <th></th>\n",
       "      <th>0</th>\n",
       "      <th>1</th>\n",
       "      <th>2</th>\n",
       "      <th>3</th>\n",
       "      <th>4</th>\n",
       "      <th>5</th>\n",
       "    </tr>\n",
       "  </thead>\n",
       "  <tbody>\n",
       "    <tr>\n",
       "      <th>0</th>\n",
       "      <td>2018-06-09 14:48:47</td>\n",
       "      <td>【アンスリウム】煩悩、恋にもだえる心</td>\n",
       "      <td></td>\n",
       "      <td></td>\n",
       "      <td>{}</td>\n",
       "      <td>ja</td>\n",
       "    </tr>\n",
       "    <tr>\n",
       "      <th>1</th>\n",
       "      <td>2018-06-09 14:48:46</td>\n",
       "      <td>RT @CarmineZozzora: Under Obama, the Left’s us...</td>\n",
       "      <td></td>\n",
       "      <td></td>\n",
       "      <td>{}</td>\n",
       "      <td>en</td>\n",
       "    </tr>\n",
       "    <tr>\n",
       "      <th>2</th>\n",
       "      <td>2018-06-09 14:48:46</td>\n",
       "      <td>https://t.co/taPEc13RFC</td>\n",
       "      <td></td>\n",
       "      <td></td>\n",
       "      <td>{}</td>\n",
       "      <td>und</td>\n",
       "    </tr>\n",
       "    <tr>\n",
       "      <th>3</th>\n",
       "      <td>2018-06-09 14:48:46</td>\n",
       "      <td>@to_na_ 抽選結果をお伝えします。「ウチカフェスイーツ20円引クーポン」を差し上げます...</td>\n",
       "      <td></td>\n",
       "      <td></td>\n",
       "      <td>{}</td>\n",
       "      <td>ja</td>\n",
       "    </tr>\n",
       "    <tr>\n",
       "      <th>4</th>\n",
       "      <td>2018-06-09 14:48:46</td>\n",
       "      <td>@biliyondabeni Allah insanı iddiasından vurur</td>\n",
       "      <td>İstanbul, Türkiye</td>\n",
       "      <td></td>\n",
       "      <td>{}</td>\n",
       "      <td>tr</td>\n",
       "    </tr>\n",
       "    <tr>\n",
       "      <th>5</th>\n",
       "      <td>2018-06-09 14:48:46</td>\n",
       "      <td>RT @NotTheCurlyHead: Imagine yo bf breaking up...</td>\n",
       "      <td></td>\n",
       "      <td></td>\n",
       "      <td>{}</td>\n",
       "      <td>en</td>\n",
       "    </tr>\n",
       "    <tr>\n",
       "      <th>6</th>\n",
       "      <td>2018-06-09 14:48:46</td>\n",
       "      <td>RT @Argentina: [SELECCIÓN MAYOR] El volante En...</td>\n",
       "      <td>seguime y te sigo</td>\n",
       "      <td></td>\n",
       "      <td>{}</td>\n",
       "      <td>es</td>\n",
       "    </tr>\n",
       "    <tr>\n",
       "      <th>7</th>\n",
       "      <td>2018-06-09 14:48:46</td>\n",
       "      <td>RT @BTS_twt: 사전투표 했습니다. #JH #RM https://t.co/n...</td>\n",
       "      <td>18, pansexual, she/her, Capricorn</td>\n",
       "      <td></td>\n",
       "      <td>{}</td>\n",
       "      <td>ko</td>\n",
       "    </tr>\n",
       "    <tr>\n",
       "      <th>8</th>\n",
       "      <td>2018-06-09 14:48:46</td>\n",
       "      <td>RT @_spacecraf_: also, it is INCREDIBLY irrita...</td>\n",
       "      <td>Illinois</td>\n",
       "      <td></td>\n",
       "      <td>{}</td>\n",
       "      <td>en</td>\n",
       "    </tr>\n",
       "    <tr>\n",
       "      <th>9</th>\n",
       "      <td>2018-06-09 14:48:46</td>\n",
       "      <td>cacha en 4\\n https://t.co/z3JBn2dFzB \\n slow m...</td>\n",
       "      <td></td>\n",
       "      <td></td>\n",
       "      <td>{}</td>\n",
       "      <td>en</td>\n",
       "    </tr>\n",
       "  </tbody>\n",
       "</table>\n",
       "</div>"
      ],
      "text/plain": [
       "                    0                                                  1  \\\n",
       "0 2018-06-09 14:48:47                                 【アンスリウム】煩悩、恋にもだえる心   \n",
       "1 2018-06-09 14:48:46  RT @CarmineZozzora: Under Obama, the Left’s us...   \n",
       "2 2018-06-09 14:48:46                            https://t.co/taPEc13RFC   \n",
       "3 2018-06-09 14:48:46  @to_na_ 抽選結果をお伝えします。「ウチカフェスイーツ20円引クーポン」を差し上げます...   \n",
       "4 2018-06-09 14:48:46      @biliyondabeni Allah insanı iddiasından vurur   \n",
       "5 2018-06-09 14:48:46  RT @NotTheCurlyHead: Imagine yo bf breaking up...   \n",
       "6 2018-06-09 14:48:46  RT @Argentina: [SELECCIÓN MAYOR] El volante En...   \n",
       "7 2018-06-09 14:48:46  RT @BTS_twt: 사전투표 했습니다. #JH #RM https://t.co/n...   \n",
       "8 2018-06-09 14:48:46  RT @_spacecraf_: also, it is INCREDIBLY irrita...   \n",
       "9 2018-06-09 14:48:46  cacha en 4\\n https://t.co/z3JBn2dFzB \\n slow m...   \n",
       "\n",
       "                                   2 3   4    5  \n",
       "0                                       {}   ja  \n",
       "1                                       {}   en  \n",
       "2                                       {}  und  \n",
       "3                                       {}   ja  \n",
       "4                  İstanbul, Türkiye    {}   tr  \n",
       "5                                       {}   en  \n",
       "6                  seguime y te sigo    {}   es  \n",
       "7  18, pansexual, she/her, Capricorn    {}   ko  \n",
       "8                           Illinois    {}   en  \n",
       "9                                       {}   en  "
      ]
     },
     "execution_count": 27,
     "metadata": {},
     "output_type": "execute_result"
    }
   ],
   "source": [
    "pd.DataFrame(result)"
   ]
  },
  {
   "cell_type": "markdown",
   "metadata": {},
   "source": [
    "# Easiest. Filter on location not null"
   ]
  },
  {
   "cell_type": "code",
   "execution_count": 41,
   "metadata": {
    "collapsed": true
   },
   "outputs": [],
   "source": [
    "cur.execute(\"\"\"select text, geo, coordinates, location \n",
    "            from tweet_dump where location != ''\n",
    "            order by id DESC limit 5;\"\"\")\n",
    "result = cur.fetchall()\n"
   ]
  },
  {
   "cell_type": "code",
   "execution_count": 42,
   "metadata": {
    "collapsed": false
   },
   "outputs": [
    {
     "data": {
      "text/html": [
       "<div>\n",
       "<table border=\"1\" class=\"dataframe\">\n",
       "  <thead>\n",
       "    <tr style=\"text-align: right;\">\n",
       "      <th></th>\n",
       "      <th>0</th>\n",
       "      <th>1</th>\n",
       "      <th>2</th>\n",
       "      <th>3</th>\n",
       "    </tr>\n",
       "  </thead>\n",
       "  <tbody>\n",
       "    <tr>\n",
       "      <th>0</th>\n",
       "      <td>え、ちょ、え、！！！！！😱♥️♥️ https://t.co/N1BCHK9Ckz</td>\n",
       "      <td>{}</td>\n",
       "      <td>{}</td>\n",
       "      <td>jpn🇯🇵</td>\n",
       "    </tr>\n",
       "    <tr>\n",
       "      <th>1</th>\n",
       "      <td>RT @RafaFreire: Precisa desenhar?!?!?! https:/...</td>\n",
       "      <td>{}</td>\n",
       "      <td>{}</td>\n",
       "      <td>Curitiba, Brasil</td>\n",
       "    </tr>\n",
       "    <tr>\n",
       "      <th>2</th>\n",
       "      <td>RT @TamalDeQuesito: #TeQuieroPara disfrutar la...</td>\n",
       "      <td>{}</td>\n",
       "      <td>{}</td>\n",
       "      <td>EN MI CDMX</td>\n",
       "    </tr>\n",
       "    <tr>\n",
       "      <th>3</th>\n",
       "      <td>爽快感ハンパないwww\\n\\nhttps://t.co/EElZlPMpYH</td>\n",
       "      <td>{}</td>\n",
       "      <td>{}</td>\n",
       "      <td>日本 広島</td>\n",
       "    </tr>\n",
       "    <tr>\n",
       "      <th>4</th>\n",
       "      <td>Panis yang seen mo pagblinock kita 😈</td>\n",
       "      <td>{u'country_code': u'AE', u'country': u'United ...</td>\n",
       "      <td>{}</td>\n",
       "      <td>MNL x DXB</td>\n",
       "    </tr>\n",
       "  </tbody>\n",
       "</table>\n",
       "</div>"
      ],
      "text/plain": [
       "                                                   0  \\\n",
       "0         え、ちょ、え、！！！！！😱♥️♥️ https://t.co/N1BCHK9Ckz   \n",
       "1  RT @RafaFreire: Precisa desenhar?!?!?! https:/...   \n",
       "2  RT @TamalDeQuesito: #TeQuieroPara disfrutar la...   \n",
       "3             爽快感ハンパないwww\\n\\nhttps://t.co/EElZlPMpYH   \n",
       "4              Panis yang seen mo pagblinock kita 😈   \n",
       "\n",
       "                                                   1   2                 3  \n",
       "0                                                 {}  {}           jpn🇯🇵  \n",
       "1                                                 {}  {}  Curitiba, Brasil  \n",
       "2                                                 {}  {}        EN MI CDMX  \n",
       "3                                                 {}  {}             日本 広島  \n",
       "4  {u'country_code': u'AE', u'country': u'United ...  {}         MNL x DXB  "
      ]
     },
     "execution_count": 42,
     "metadata": {},
     "output_type": "execute_result"
    }
   ],
   "source": [
    "pd.DataFrame(result)"
   ]
  },
  {
   "cell_type": "markdown",
   "metadata": {},
   "source": [
    "# Filter on geo not being null"
   ]
  },
  {
   "cell_type": "code",
   "execution_count": 30,
   "metadata": {
    "collapsed": true
   },
   "outputs": [],
   "source": [
    "#example json of geo.:\n",
    "#{\"full_name\": \"Lomita, CA\", \"country\": \"United States\", \"place_type\": \"city\", \"coordinates\": [[[-118.328804, 33.774937], [-118.328804, 33.807678], [-118.306568, 33.807678], [-118.306568, 33.774937]]], \"country_code\": \"US\", \"id\": \"f2f180b090191151\", \"name\": \"Lomita\"}\n",
    "# coordinates can be found in geo['coordinates'] or geo->'coordinates'\n",
    "\n",
    "cur.execute(\"\"\"select text, geo, coordinates, location \n",
    "            from tweet_dump where geo->'full_name' IS NOT NULL \n",
    "            order by id DESC limit 5;\"\"\")\n",
    "result = cur.fetchall()\n"
   ]
  },
  {
   "cell_type": "code",
   "execution_count": 31,
   "metadata": {
    "collapsed": false
   },
   "outputs": [
    {
     "data": {
      "text/html": [
       "<div>\n",
       "<table border=\"1\" class=\"dataframe\">\n",
       "  <thead>\n",
       "    <tr style=\"text-align: right;\">\n",
       "      <th></th>\n",
       "      <th>0</th>\n",
       "      <th>1</th>\n",
       "      <th>2</th>\n",
       "      <th>3</th>\n",
       "    </tr>\n",
       "  </thead>\n",
       "  <tbody>\n",
       "    <tr>\n",
       "      <th>0</th>\n",
       "      <td>Teşkilat mensuplarımız ile birlikte seçmen ziy...</td>\n",
       "      <td>{u'country_code': u'TR', u'country': u'Türkiye...</td>\n",
       "      <td>{}</td>\n",
       "      <td>Büyükçekmece, Türkiye</td>\n",
       "    </tr>\n",
       "    <tr>\n",
       "      <th>1</th>\n",
       "      <td>@RK1610IsMe</td>\n",
       "      <td>{u'country_code': u'IN', u'country': u'India',...</td>\n",
       "      <td>{}</td>\n",
       "      <td>New Delhi ( India)</td>\n",
       "    </tr>\n",
       "    <tr>\n",
       "      <th>2</th>\n",
       "      <td>@Universe_FD 😭 😭 Mais nooooon, pars pas.. ❤️</td>\n",
       "      <td>{u'country_code': u'GP', u'country': u'Guadelo...</td>\n",
       "      <td>{}</td>\n",
       "      <td>Guadeloupe</td>\n",
       "    </tr>\n",
       "    <tr>\n",
       "      <th>3</th>\n",
       "      <td>@ryanOTHx I usually do the opposite, over the ...</td>\n",
       "      <td>{u'country_code': u'GB', u'country': u'United ...</td>\n",
       "      <td>{}</td>\n",
       "      <td>Oxford, England</td>\n",
       "    </tr>\n",
       "    <tr>\n",
       "      <th>4</th>\n",
       "      <td>@Iam0mae @tray_terrell cmon na yk neither coul...</td>\n",
       "      <td>{u'country_code': u'US', u'country': u'United ...</td>\n",
       "      <td>{}</td>\n",
       "      <td>🏚</td>\n",
       "    </tr>\n",
       "  </tbody>\n",
       "</table>\n",
       "</div>"
      ],
      "text/plain": [
       "                                                   0  \\\n",
       "0  Teşkilat mensuplarımız ile birlikte seçmen ziy...   \n",
       "1                                        @RK1610IsMe   \n",
       "2     @Universe_FD 😭 😭 Mais nooooon, pars pas.. ❤️   \n",
       "3  @ryanOTHx I usually do the opposite, over the ...   \n",
       "4  @Iam0mae @tray_terrell cmon na yk neither coul...   \n",
       "\n",
       "                                                   1   2  \\\n",
       "0  {u'country_code': u'TR', u'country': u'Türkiye...  {}   \n",
       "1  {u'country_code': u'IN', u'country': u'India',...  {}   \n",
       "2  {u'country_code': u'GP', u'country': u'Guadelo...  {}   \n",
       "3  {u'country_code': u'GB', u'country': u'United ...  {}   \n",
       "4  {u'country_code': u'US', u'country': u'United ...  {}   \n",
       "\n",
       "                       3  \n",
       "0  Büyükçekmece, Türkiye  \n",
       "1     New Delhi ( India)  \n",
       "2             Guadeloupe  \n",
       "3        Oxford, England  \n",
       "4                     🏚  "
      ]
     },
     "execution_count": 31,
     "metadata": {},
     "output_type": "execute_result"
    }
   ],
   "source": [
    "pd.DataFrame(result)"
   ]
  },
  {
   "cell_type": "markdown",
   "metadata": {},
   "source": [
    "## Coordinates"
   ]
  },
  {
   "cell_type": "code",
   "execution_count": 36,
   "metadata": {
    "collapsed": false
   },
   "outputs": [
    {
     "data": {
      "text/plain": [
       "[[[76.707671, 28.199529],\n",
       "  [76.707671, 28.537521],\n",
       "  [77.241711, 28.537521],\n",
       "  [77.241711, 28.199529]]]"
      ]
     },
     "execution_count": 36,
     "metadata": {},
     "output_type": "execute_result"
    }
   ],
   "source": [
    "result[1][1]['coordinates']"
   ]
  },
  {
   "cell_type": "markdown",
   "metadata": {},
   "source": [
    "# Filter on coordinates not being null"
   ]
  },
  {
   "cell_type": "code",
   "execution_count": 37,
   "metadata": {
    "collapsed": true
   },
   "outputs": [],
   "source": [
    "cur.execute(\"\"\"select text, geo, coordinates, location \n",
    "            from tweet_dump where coordinates->'coordinates' IS NOT NULL \n",
    "            order by id DESC limit 5;\"\"\")\n",
    "result = cur.fetchall()\n",
    "\n"
   ]
  },
  {
   "cell_type": "code",
   "execution_count": 38,
   "metadata": {
    "collapsed": false
   },
   "outputs": [
    {
     "data": {
      "text/html": [
       "<div>\n",
       "<table border=\"1\" class=\"dataframe\">\n",
       "  <thead>\n",
       "    <tr style=\"text-align: right;\">\n",
       "      <th></th>\n",
       "      <th>0</th>\n",
       "      <th>1</th>\n",
       "      <th>2</th>\n",
       "      <th>3</th>\n",
       "    </tr>\n",
       "  </thead>\n",
       "  <tbody>\n",
       "    <tr>\n",
       "      <th>0</th>\n",
       "      <td>Юзу хорош в аромате, на вкус чуток провальной ...</td>\n",
       "      <td>{u'country_code': u'RU', u'country': u'Russia'...</td>\n",
       "      <td>{u'type': u'Point', u'coordinates': [55.7714, ...</td>\n",
       "      <td>Королев, Россия</td>\n",
       "    </tr>\n",
       "    <tr>\n",
       "      <th>1</th>\n",
       "      <td>#reflection @ Ponta Delgada, Azores https://t....</td>\n",
       "      <td>{}</td>\n",
       "      <td>{u'type': u'Point', u'coordinates': [37.7333, ...</td>\n",
       "      <td>New York</td>\n",
       "    </tr>\n",
       "    <tr>\n",
       "      <th>2</th>\n",
       "      <td>มุม  #likes #photo #like4like #instagram… http...</td>\n",
       "      <td>{u'country_code': u'TH', u'country': u'ประเทศไ...</td>\n",
       "      <td>{u'type': u'Point', u'coordinates': [13.811779...</td>\n",
       "      <td>นนทบุรี, ประเทศไทย</td>\n",
       "    </tr>\n",
       "    <tr>\n",
       "      <th>3</th>\n",
       "      <td>Playa y feria en Marbella. #trip #españa… http...</td>\n",
       "      <td>{u'country_code': u'ES', u'country': u'España'...</td>\n",
       "      <td>{u'type': u'Point', u'coordinates': [36.509, -...</td>\n",
       "      <td>Olitz's house. ✈</td>\n",
       "    </tr>\n",
       "    <tr>\n",
       "      <th>4</th>\n",
       "      <td>Azil also can (@ Starbucks Reserve - @starbuck...</td>\n",
       "      <td>{u'country_code': u'MY', u'country': u'Malaysi...</td>\n",
       "      <td>{u'type': u'Point', u'coordinates': [3.1585508...</td>\n",
       "      <td>Loqstaq +Seghedang +Potdiksen</td>\n",
       "    </tr>\n",
       "  </tbody>\n",
       "</table>\n",
       "</div>"
      ],
      "text/plain": [
       "                                                   0  \\\n",
       "0  Юзу хорош в аромате, на вкус чуток провальной ...   \n",
       "1  #reflection @ Ponta Delgada, Azores https://t....   \n",
       "2  มุม  #likes #photo #like4like #instagram… http...   \n",
       "3  Playa y feria en Marbella. #trip #españa… http...   \n",
       "4  Azil also can (@ Starbucks Reserve - @starbuck...   \n",
       "\n",
       "                                                   1  \\\n",
       "0  {u'country_code': u'RU', u'country': u'Russia'...   \n",
       "1                                                 {}   \n",
       "2  {u'country_code': u'TH', u'country': u'ประเทศไ...   \n",
       "3  {u'country_code': u'ES', u'country': u'España'...   \n",
       "4  {u'country_code': u'MY', u'country': u'Malaysi...   \n",
       "\n",
       "                                                   2  \\\n",
       "0  {u'type': u'Point', u'coordinates': [55.7714, ...   \n",
       "1  {u'type': u'Point', u'coordinates': [37.7333, ...   \n",
       "2  {u'type': u'Point', u'coordinates': [13.811779...   \n",
       "3  {u'type': u'Point', u'coordinates': [36.509, -...   \n",
       "4  {u'type': u'Point', u'coordinates': [3.1585508...   \n",
       "\n",
       "                               3  \n",
       "0                Королев, Россия  \n",
       "1                       New York  \n",
       "2             นนทบุรี, ประเทศไทย  \n",
       "3               Olitz's house. ✈  \n",
       "4  Loqstaq +Seghedang +Potdiksen  "
      ]
     },
     "execution_count": 38,
     "metadata": {},
     "output_type": "execute_result"
    }
   ],
   "source": [
    "pd.DataFrame(result)"
   ]
  },
  {
   "cell_type": "code",
   "execution_count": null,
   "metadata": {
    "collapsed": true
   },
   "outputs": [],
   "source": []
  }
 ],
 "metadata": {
  "kernelspec": {
   "display_name": "Python 2",
   "language": "python",
   "name": "python2"
  },
  "language_info": {
   "codemirror_mode": {
    "name": "ipython",
    "version": 2
   },
   "file_extension": ".py",
   "mimetype": "text/x-python",
   "name": "python",
   "nbconvert_exporter": "python",
   "pygments_lexer": "ipython2",
   "version": "2.7.9"
  }
 },
 "nbformat": 4,
 "nbformat_minor": 0
}
